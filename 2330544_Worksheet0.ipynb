{
  "nbformat": 4,
  "nbformat_minor": 0,
  "metadata": {
    "colab": {
      "provenance": []
    },
    "kernelspec": {
      "name": "python3",
      "display_name": "Python 3"
    },
    "language_info": {
      "name": "python"
    }
  },
  "cells": [
    {
      "cell_type": "code",
      "source": [],
      "metadata": {
        "id": "b_UIts0y58Qd"
      },
      "execution_count": null,
      "outputs": []
    },
    {
      "cell_type": "markdown",
      "source": [
        "# Basic Python\n"
      ],
      "metadata": {
        "id": "hiBOYYOz53X-"
      }
    },
    {
      "cell_type": "markdown",
      "source": [
        "**TASK 1**"
      ],
      "metadata": {
        "id": "rstDYDyp56eI"
      }
    },
    {
      "cell_type": "code",
      "execution_count": 1,
      "metadata": {
        "colab": {
          "base_uri": "https://localhost:8080/"
        },
        "id": "9HzxSLpcz_5G",
        "outputId": "25b5e12a-9dbb-4996-de03-a5a85d10d808"
      },
      "outputs": [
        {
          "output_type": "stream",
          "name": "stdout",
          "text": [
            "Enter a conversion type (Length, Weight, or Volume): length\n",
            "Enter the value to be converted: 50\n",
            "Convert from (m to ft / ft to m): m to ft\n",
            "50.0 meters is 164.042 feet\n"
          ]
        }
      ],
      "source": [
        "\n",
        "def conversion(conversion_type, value):\n",
        "    \"\"\"\n",
        "    Converts a given value based on the specified conversion type.\n",
        "\n",
        "    This function allows the user to choose a unit for conversion\n",
        "    based on the given conversion type (length, volume, or weight)\n",
        "    and prints the converted value.\n",
        "\n",
        "    Parameters:\n",
        "        conversion_type (str): The type of conversion. Options: 'length', 'volume', or 'weight'.\n",
        "        value (float): The numerical value to be converted.\n",
        "\n",
        "    Returns:\n",
        "        None\n",
        "    \"\"\"\n",
        "    match conversion_type:\n",
        "        case 'length':\n",
        "            unit = input(\"Convert from (m to ft / ft to m): \").strip().lower()\n",
        "            if unit == \"m to ft\":\n",
        "                print(f\"{value} meters is {value * 3.28084} feet\")\n",
        "            elif unit == \"ft to m\":\n",
        "                print(f\"{value} feet is {value / 3.28084} meters\")\n",
        "            else:\n",
        "                print(\"Invalid length conversion type.\")\n",
        "\n",
        "        case 'volume':\n",
        "            unit = input(\"Convert from (L to gal / gal to L): \").strip().lower()\n",
        "            if unit == \"l to gal\":\n",
        "                print(f\"{value} liters is {value * 0.264172} gallons\")\n",
        "            elif unit == \"gal to l\":\n",
        "                print(f\"{value} gallons is {value / 0.264172} liters\")\n",
        "            else:\n",
        "                print(\"Invalid volume conversion type.\")\n",
        "\n",
        "        case 'weight':\n",
        "            unit = input(\"Convert from (kg to lbs / lbs to kg): \").strip().lower()\n",
        "            if unit == \"kg to lbs\":\n",
        "                print(f\"{value} kg is {value * 2.20462} pounds\")\n",
        "            elif unit == \"lbs to kg\":\n",
        "                print(f\"{value} pounds is {value / 2.20462} kg\")\n",
        "            else:\n",
        "                print(\"Invalid weight conversion type.\")\n",
        "\n",
        "        case _:\n",
        "            print(\"Invalid conversion category.\")\n",
        "\n",
        "\n",
        "try:\n",
        "    type_list = ('length', 'volume', 'weight')\n",
        "    conversion_type = input(\"Enter a conversion type (Length, Weight, or Volume): \").strip().lower()\n",
        "\n",
        "    if conversion_type not in type_list:\n",
        "        print(\"Invalid Conversion type. Program Ended!\")\n",
        "    else:\n",
        "        value = float(input(\"Enter the value to be converted: \"))\n",
        "        if value < 0:\n",
        "            raise ValueError()\n",
        "        conversion(conversion_type, value)\n",
        "\n",
        "except ValueError:\n",
        "    print(\"Only positive numeric values are allowed.\")\n"
      ]
    },
    {
      "cell_type": "markdown",
      "source": [
        "**TASK 2**"
      ],
      "metadata": {
        "id": "_btEk25g0Ln2"
      }
    },
    {
      "cell_type": "code",
      "source": [
        "def list_operations(user_list: list[int], operation_type: str) -> int | float:\n",
        "    \"\"\"\n",
        "    Performs mathematical operations on a list of numbers based on the operation type.\n",
        "\n",
        "    This function allows the user to define a list of numbers and choose an operation\n",
        "    type to perform (Sum, Avg, Maximum, or Minimum) and returns the computed value.\n",
        "\n",
        "    Parameters:\n",
        "        user_list (list[int]): The list of numbers inputted by the user.\n",
        "        operation_type (str): The type of operation to perform.\n",
        "                            Options: 'sum', 'avg', 'maximum', or 'minimum'.\n",
        "\n",
        "    Returns:\n",
        "        result (int | float): The computed result.\n",
        "    \"\"\"\n",
        "    match operation_type:\n",
        "        case 'sum':\n",
        "            total = 0\n",
        "            for num in user_list:\n",
        "                total += num\n",
        "            return total\n",
        "\n",
        "        case 'avg':\n",
        "            total = 0\n",
        "            count = 0\n",
        "            for num in user_list:\n",
        "                total += num\n",
        "                count += 1\n",
        "            return total / count if count > 0 else 0\n",
        "\n",
        "        case 'maximum':\n",
        "            max_value = user_list[0]\n",
        "            for num in user_list:\n",
        "                if num > max_value:\n",
        "                    max_value = num\n",
        "            return max_value\n",
        "\n",
        "        case 'minimum':\n",
        "            min_value = user_list[0]\n",
        "            for num in user_list:\n",
        "                if num < min_value:\n",
        "                    min_value = num\n",
        "            return min_value\n",
        "\n",
        "        case _:\n",
        "            return \"Invalid operation type.\"\n",
        "\n",
        "try:\n",
        "    operation_types = ['sum', 'avg', 'maximum', 'minimum']\n",
        "\n",
        "    user_list = input(\"Enter the list of numbers separated by spaces: \").split()\n",
        "    formatted_list = [int(x) for x in user_list]\n",
        "\n",
        "    operation = input(\"Select an operation to perform (sum, avg, maximum, minimum): \").lower()\n",
        "\n",
        "    if operation not in operation_types:\n",
        "        print(\"Invalid operation type.\")\n",
        "    else:\n",
        "        result = list_operations(formatted_list, operation)\n",
        "        print(f'Result of {operation} in the list {formatted_list} is {result}')\n",
        "\n",
        "except ValueError:\n",
        "    print(\"Invalid input. Please enter only numeric values separated by spaces.\")\n"
      ],
      "metadata": {
        "colab": {
          "base_uri": "https://localhost:8080/"
        },
        "id": "F0Cj0KL50OIR",
        "outputId": "42125c64-49d0-453d-dd10-079b2b4139f5"
      },
      "execution_count": 4,
      "outputs": [
        {
          "output_type": "stream",
          "name": "stdout",
          "text": [
            "Enter the list of numbers separated by spaces: 1 2 3 4 5 6 7 8 9 10\n",
            "Select an operation to perform (sum, avg, maximum, minimum): sum\n",
            "Result of sum in the list [1, 2, 3, 4, 5, 6, 7, 8, 9, 10] is 55\n"
          ]
        }
      ]
    },
    {
      "cell_type": "code",
      "source": [
        "\n",
        "def extract_every_other(lst):\n",
        "  \"\"\"\n",
        "    Extracts every other element from the given list.\n",
        "\n",
        "    Args:\n",
        "        lst (list): The input list.\n",
        "\n",
        "    Returns:\n",
        "        list: A new list containing every other element from the original list, starting from index 0.\n",
        "  \"\"\"\n",
        "  return lst[::2]\n",
        "\n",
        "lst = [1, 2, 3, 4, 5, 6,18]\n",
        "lst2=extract_every_other(lst)\n",
        "print(lst2)\n"
      ],
      "metadata": {
        "colab": {
          "base_uri": "https://localhost:8080/"
        },
        "id": "8J0G4dQf0Xlu",
        "outputId": "79e1aed1-4736-438b-989c-f4e25f5043c9"
      },
      "execution_count": 44,
      "outputs": [
        {
          "output_type": "stream",
          "name": "stdout",
          "text": [
            "[1, 3, 5, 18]\n"
          ]
        }
      ]
    },
    {
      "cell_type": "code",
      "source": [
        "def reverse_list(lst):\n",
        "  \"\"\"\n",
        "    reverses the given list using slicing.\n",
        "\n",
        "    Args:\n",
        "        lst (list): The input list.\n",
        "\n",
        "    Returns:\n",
        "        list: A reveresed list of the input list.\n",
        "  \"\"\"\n",
        "  return lst[::-1]\n",
        "\n",
        "lst = [1, 2, 3, 4, 5, 6]\n",
        "lst2=reverse_list(lst)\n",
        "print(lst2)"
      ],
      "metadata": {
        "colab": {
          "base_uri": "https://localhost:8080/"
        },
        "id": "u7Eddsnr2W4H",
        "outputId": "b60a1bac-ad83-447c-9bb3-ccfbd2509a78"
      },
      "execution_count": 29,
      "outputs": [
        {
          "output_type": "stream",
          "name": "stdout",
          "text": [
            "[6, 5, 4, 3, 2, 1]\n"
          ]
        }
      ]
    },
    {
      "cell_type": "code",
      "source": [
        "def remove_first_last(lst):\n",
        "  \"\"\"\n",
        "    removes the first and last elements of the given list using slicing.\n",
        "\n",
        "    Args:\n",
        "        lst (list): The input list.\n",
        "\n",
        "    Returns:\n",
        "        list: A list without firts and last element of the input list.\n",
        "  \"\"\"\n",
        "  return lst[1:-1]\n",
        "lst = [1, 2, 3, 4, 5, 6]\n",
        "lst1= remove_first_last(lst)\n",
        "print(lst1)"
      ],
      "metadata": {
        "colab": {
          "base_uri": "https://localhost:8080/"
        },
        "id": "uugn7buA3MZR",
        "outputId": "3041547b-74a1-4d86-e9c1-f621601bd0a3"
      },
      "execution_count": 33,
      "outputs": [
        {
          "output_type": "stream",
          "name": "stdout",
          "text": [
            "[2, 3, 4, 5]\n"
          ]
        }
      ]
    },
    {
      "cell_type": "code",
      "source": [
        "def get_first_n(lst, n):\n",
        "  \"\"\"\n",
        "    returns the first n elements of the given list using slicing.\n",
        "\n",
        "    Args:\n",
        "        lst (list): The input list.\n",
        "        n (int): The number of elements to return.\n",
        "\n",
        "    Returns:\n",
        "        list: A list with n of first elements of the input list.\n",
        "  \"\"\"\n",
        "  return lst[:n]\n",
        "lst = [1, 2, 3, 4, 5, 6]\n",
        "n = int (input(f\"Enter the value for n ( must be less than or equal to {len(lst)})\"))\n",
        "lst1= get_first_n(lst,n)\n",
        "print(lst1)"
      ],
      "metadata": {
        "colab": {
          "base_uri": "https://localhost:8080/"
        },
        "id": "yZK7Ahfx4pvv",
        "outputId": "f467a1f4-dcb2-4356-942c-e31ca5af33a8"
      },
      "execution_count": 35,
      "outputs": [
        {
          "output_type": "stream",
          "name": "stdout",
          "text": [
            "Enter the value for n ( must be less than or equal to 6)4\n",
            "[1, 2, 3, 4]\n"
          ]
        }
      ]
    },
    {
      "cell_type": "code",
      "source": [
        "def get_last_n(lst, n):\n",
        "  \"\"\"\n",
        "    returns the last n elements of the given list using slicing.\n",
        "\n",
        "    Args:\n",
        "        lst (list): The input list.\n",
        "        n (int): The number of elements to return.\n",
        "\n",
        "    Returns:\n",
        "        list: A list with n of last elements of the input list.\n",
        "  \"\"\"\n",
        "  return lst[-n:]\n",
        "lst = [1, 2, 3, 4, 5]\n",
        "n = int (input(f\"Enter the value for n ( must be less than or equal to {len(lst)})\"))\n",
        "lst1= get_last_n(lst,n)\n",
        "print(lst1)"
      ],
      "metadata": {
        "colab": {
          "base_uri": "https://localhost:8080/"
        },
        "id": "cP-ZHEJX5cRx",
        "outputId": "dce98293-722e-4db9-ff7d-7d9ce02e8ff3"
      },
      "execution_count": 40,
      "outputs": [
        {
          "output_type": "stream",
          "name": "stdout",
          "text": [
            "Enter the value for n ( must be less than or equal to 5)2\n",
            "[4, 5]\n"
          ]
        }
      ]
    },
    {
      "cell_type": "code",
      "source": [
        "def reverse_skip(lst):\n",
        "    \"\"\"\n",
        "    Extracts every second element from the given list in reverse order.\n",
        "\n",
        "    Args:\n",
        "        lst (list): The input list.\n",
        "\n",
        "    Returns:\n",
        "        list: A new list containing every second element from the original list,\n",
        "              starting from the second-to-last element.\n",
        "    \"\"\"\n",
        "    return lst[-2::-2]\n",
        "\n",
        "lst = [1, 2, 3, 4, 5, 6]\n",
        "lst2=reverse_skip(lst)\n",
        "print(lst2)"
      ],
      "metadata": {
        "colab": {
          "base_uri": "https://localhost:8080/"
        },
        "id": "gK2xbsiZ50YA",
        "outputId": "0fc53bcb-599d-45d8-9b7b-db4c56dceaa7"
      },
      "execution_count": 45,
      "outputs": [
        {
          "output_type": "stream",
          "name": "stdout",
          "text": [
            "[5, 3, 1]\n"
          ]
        }
      ]
    },
    {
      "cell_type": "code",
      "source": [
        "def flatten(nested_lst):\n",
        "  return [item for lst in nested_lst for item in lst]\n",
        "\n",
        "lst =[[1, 2], [3, 4], [5]]\n",
        "flat_list = flatten(lst)\n",
        "print(flat_list)"
      ],
      "metadata": {
        "colab": {
          "base_uri": "https://localhost:8080/"
        },
        "id": "TEWRUCcltsZK",
        "outputId": "53e772fe-2443-44f4-cbed-78de58de3a65"
      },
      "execution_count": 4,
      "outputs": [
        {
          "output_type": "stream",
          "name": "stdout",
          "text": [
            "[1, 2, 3, 4, 5]\n"
          ]
        }
      ]
    },
    {
      "cell_type": "code",
      "source": [
        "def access_nested_elements(lst,indices):\n",
        "    result=lst\n",
        "    for index in indices:\n",
        "        result=result[index]\n",
        "    return result\n",
        "lst = [[1, 2, 3], [4, 5, 6], [7, 8, 9]]\n",
        "indices = [1,2]\n",
        "print(access_nested_elements(lst,indices))"
      ],
      "metadata": {
        "colab": {
          "base_uri": "https://localhost:8080/"
        },
        "id": "pXOkoe6jvKnV",
        "outputId": "31eb7a51-4807-44ad-8da8-89385f2627ce"
      },
      "execution_count": 8,
      "outputs": [
        {
          "output_type": "stream",
          "name": "stdout",
          "text": [
            "6\n"
          ]
        }
      ]
    },
    {
      "cell_type": "code",
      "source": [
        "def sum_nested(lst):\n",
        "    total = 0\n",
        "    for item in lst:\n",
        "        if isinstance(item, list):\n",
        "            total += sum_nested(item)\n",
        "        else:\n",
        "            total += item\n",
        "    return total\n",
        "\n",
        "nested_list = [[1, 2], [3, [4, 5]], 6]\n",
        "print(sum_nested(nested_list))\n"
      ],
      "metadata": {
        "colab": {
          "base_uri": "https://localhost:8080/"
        },
        "id": "6i9yxelRu-Wb",
        "outputId": "924e02af-eec9-45e1-ff65-cc95b6c762de"
      },
      "execution_count": 12,
      "outputs": [
        {
          "output_type": "stream",
          "name": "stdout",
          "text": [
            "21\n"
          ]
        }
      ]
    },
    {
      "cell_type": "code",
      "source": [
        "def remove_element(lst,elem):\n",
        "    new_lst =[]\n",
        "    for item in lst:\n",
        "        if isinstance(item, list):\n",
        "            new_lst.append(remove_element(item,elem))\n",
        "        elif item != elem:\n",
        "            new_lst.append(item)\n",
        "    return new_lst\n",
        "\n",
        "lst = [[1, 2], [3, 2], [4, 5]]\n",
        "elem = 2\n",
        "print(remove_element(lst, elem))"
      ],
      "metadata": {
        "colab": {
          "base_uri": "https://localhost:8080/"
        },
        "id": "FMAynCprzOwE",
        "outputId": "3aa184ad-b284-425f-b04f-78a2cd44505e"
      },
      "execution_count": 13,
      "outputs": [
        {
          "output_type": "stream",
          "name": "stdout",
          "text": [
            "[[1], [3], [4, 5]]\n"
          ]
        }
      ]
    },
    {
      "cell_type": "code",
      "source": [
        "def find_max(lst):\n",
        "    max = 0\n",
        "    for item in lst:\n",
        "        if isinstance(item, list):\n",
        "            max = find_max(item)\n",
        "        elif item > max:\n",
        "            max = item\n",
        "    return max\n",
        "\n",
        "lst = [[1, 2], [3, [4, 5]], 6]\n",
        "print(find_max(lst))\n",
        "\n"
      ],
      "metadata": {
        "colab": {
          "base_uri": "https://localhost:8080/"
        },
        "id": "mx3ebQ6g0rGj",
        "outputId": "07c4b3cd-2c28-4a0e-bf5b-04555781e294"
      },
      "execution_count": 15,
      "outputs": [
        {
          "output_type": "stream",
          "name": "stdout",
          "text": [
            "6\n"
          ]
        }
      ]
    },
    {
      "cell_type": "code",
      "source": [
        "def count_occurences(lst,elem):\n",
        "    count = 0\n",
        "    for item in lst:\n",
        "        if isinstance(item, list):\n",
        "            count = count + count_occurences(item,elem)\n",
        "        elif item == elem:\n",
        "            count += 1\n",
        "    return count\n",
        "\n",
        "lst = [[1, 2], [2, 3], [2, 4]]\n",
        "elem = 2\n",
        "print(count_occurences(lst, elem))\n"
      ],
      "metadata": {
        "colab": {
          "base_uri": "https://localhost:8080/"
        },
        "id": "i-pD1jDx1G6e",
        "outputId": "75d638e4-5a95-4dc5-bac4-4d5b943c9fa7"
      },
      "execution_count": 16,
      "outputs": [
        {
          "output_type": "stream",
          "name": "stdout",
          "text": [
            "3\n"
          ]
        }
      ]
    },
    {
      "cell_type": "code",
      "source": [
        "def deep_flatten(lst):\n",
        "    flat_list = []\n",
        "    for item in lst:\n",
        "        if isinstance(item, list):\n",
        "            flat_list.extend(deep_flatten(item))\n",
        "        else:\n",
        "            flat_list.append(item)\n",
        "    return flat_list\n",
        "lst = [[[1, 2], [3, 4]], [[5, 6], [7, 8]]]\n",
        "print(deep_flatten(lst))"
      ],
      "metadata": {
        "colab": {
          "base_uri": "https://localhost:8080/"
        },
        "id": "8a6gp-482Q2E",
        "outputId": "c7e728dc-18d3-467a-af61-72304c4e3646"
      },
      "execution_count": 20,
      "outputs": [
        {
          "output_type": "stream",
          "name": "stdout",
          "text": [
            "[1, 2, 3, 4, 5, 6, 7, 8]\n"
          ]
        }
      ]
    },
    {
      "cell_type": "code",
      "source": [
        "def average_nested(lst):\n",
        "    total = 0\n",
        "    count = 0\n",
        "    for sublist in lst:\n",
        "        for num in sublist:\n",
        "            total += num\n",
        "            count += 1\n",
        "    return total / count if count else 0\n",
        "lst = [[1, 2], [3, 4], [5, 6]]\n",
        "print(average_nested(lst))"
      ],
      "metadata": {
        "colab": {
          "base_uri": "https://localhost:8080/"
        },
        "id": "6HcgZ8Gk47cI",
        "outputId": "761703e4-0dcd-442c-cf50-7534ce8781ad"
      },
      "execution_count": 26,
      "outputs": [
        {
          "output_type": "stream",
          "name": "stdout",
          "text": [
            "3.5\n"
          ]
        }
      ]
    },
    {
      "cell_type": "markdown",
      "source": [
        "# NUMPY"
      ],
      "metadata": {
        "id": "TdxFoeNS5zHD"
      }
    },
    {
      "cell_type": "markdown",
      "source": [
        "**Problem 1**"
      ],
      "metadata": {
        "id": "j7d59vuBVHjy"
      }
    },
    {
      "cell_type": "code",
      "source": [
        "import numpy as np\n",
        "\n"
      ],
      "metadata": {
        "id": "91DJS0395992"
      },
      "execution_count": 33,
      "outputs": []
    },
    {
      "cell_type": "code",
      "source": [
        "empty_array = np.empty((2, 2))\n",
        "\n",
        "ones_array = np.ones((4, 2))\n",
        "print(\"Empty Array (2x2):\\n\", empty_array)\n",
        "print('\\n')\n",
        "print(\"Ones Array (4x2):\\n\", ones_array)"
      ],
      "metadata": {
        "colab": {
          "base_uri": "https://localhost:8080/"
        },
        "id": "vkesm6WdEfZp",
        "outputId": "4631d0f1-10b6-4f06-e0b5-532c5582b84f"
      },
      "execution_count": 29,
      "outputs": [
        {
          "output_type": "stream",
          "name": "stdout",
          "text": [
            "Empty Array (2x2):\n",
            " [[4.53656086e-316 0.00000000e+000]\n",
            " [0.00000000e+000 0.00000000e+000]]\n",
            "\n",
            "\n",
            "Ones Array (4x2):\n",
            " [[1. 1.]\n",
            " [1. 1.]\n",
            " [1. 1.]\n",
            " [1. 1.]]\n"
          ]
        }
      ]
    },
    {
      "cell_type": "code",
      "source": [
        "shape = (2,2)\n",
        "fill_value = 8\n",
        "filled_array = np.full(shape, fill_value)\n",
        "print(f\"array of given shape {shape} and type, filled with fill_value:{fill_value}\\n {filled_array}\")"
      ],
      "metadata": {
        "colab": {
          "base_uri": "https://localhost:8080/"
        },
        "id": "7iDEU1srEtsr",
        "outputId": "3501a530-1959-49ba-cc67-85d832fd625b"
      },
      "execution_count": 36,
      "outputs": [
        {
          "output_type": "stream",
          "name": "stdout",
          "text": [
            "array of given shape (2, 2) and type, filled with fill_value:8\n",
            " [[8 8]\n",
            " [8 8]]\n"
          ]
        }
      ]
    },
    {
      "cell_type": "code",
      "source": [
        "array = np.array([[1, 2], [3, 4],[5,6]])\n",
        "print(f\"Given Array: {array}\")\n",
        "zeros_array = np.zeros_like(array)\n",
        "print(f\" Zero array :\\n {zeros_array}\")\n",
        "\n",
        "ones_array = np.ones_like(array)\n",
        "print(f\" Ones array :\\n {ones_array}\")"
      ],
      "metadata": {
        "colab": {
          "base_uri": "https://localhost:8080/"
        },
        "id": "SgNrqfWOE42S",
        "outputId": "c107c11d-5029-4397-b25f-83add1211297"
      },
      "execution_count": 40,
      "outputs": [
        {
          "output_type": "stream",
          "name": "stdout",
          "text": [
            "Given Array: [[1 2]\n",
            " [3 4]\n",
            " [5 6]]\n",
            " Zero array :\n",
            " [[0 0]\n",
            " [0 0]\n",
            " [0 0]]\n",
            " Ones array :\n",
            " [[1 1]\n",
            " [1 1]\n",
            " [1 1]]\n"
          ]
        }
      ]
    },
    {
      "cell_type": "code",
      "source": [
        "new_list = [1, 2, 3, 4]\n",
        "numpy_array = np.array(new_list)\n",
        "print(f\"Given List: {new_list}\")\n",
        "print(f\"Numpy Array: {numpy_array}\")"
      ],
      "metadata": {
        "colab": {
          "base_uri": "https://localhost:8080/"
        },
        "id": "0j-CXGcwFK-L",
        "outputId": "9d327b03-44fc-4982-bba4-07fc95c4d9a6"
      },
      "execution_count": 41,
      "outputs": [
        {
          "output_type": "stream",
          "name": "stdout",
          "text": [
            "Given List: [1, 2, 3, 4]\n",
            "Numpy Array: [1 2 3 4]\n"
          ]
        }
      ]
    },
    {
      "cell_type": "markdown",
      "source": [
        "**Problem Two**"
      ],
      "metadata": {
        "id": "U0vxfqWwVKyP"
      }
    },
    {
      "cell_type": "code",
      "source": [
        "arr = np.arange(10,50)\n",
        "print(\"Array from 10 to 49\\n \",arr)\n"
      ],
      "metadata": {
        "colab": {
          "base_uri": "https://localhost:8080/"
        },
        "id": "x9qjudMWVO1Q",
        "outputId": "64023d24-dfc1-4fdc-e300-690f535d8c8e"
      },
      "execution_count": 44,
      "outputs": [
        {
          "output_type": "stream",
          "name": "stdout",
          "text": [
            "Array from 10 to 49\n",
            "  [10 11 12 13 14 15 16 17 18 19 20 21 22 23 24 25 26 27 28 29 30 31 32 33\n",
            " 34 35 36 37 38 39 40 41 42 43 44 45 46 47 48 49]\n"
          ]
        }
      ]
    },
    {
      "cell_type": "code",
      "source": [
        "arr = np.arange(0,9).reshape(3,3)\n",
        "print(\"A 3x3 matrix with values from 0 to 8\\n\",arr)"
      ],
      "metadata": {
        "colab": {
          "base_uri": "https://localhost:8080/"
        },
        "id": "lx4uxQYgVhs8",
        "outputId": "d296efbd-fc2d-4f86-b410-44f3d1daa70c"
      },
      "execution_count": 45,
      "outputs": [
        {
          "output_type": "stream",
          "name": "stdout",
          "text": [
            "A 3x3 matrix with values from 0 to 8\n",
            " [[0 1 2]\n",
            " [3 4 5]\n",
            " [6 7 8]]\n"
          ]
        }
      ]
    },
    {
      "cell_type": "code",
      "source": [
        "identity = np.eye(3)\n",
        "print(\"3x3 identity matrix\\n\",identity)"
      ],
      "metadata": {
        "colab": {
          "base_uri": "https://localhost:8080/"
        },
        "id": "1tSIuyz2V20m",
        "outputId": "13211115-caa5-48d7-9f1c-fa28c0fddcba"
      },
      "execution_count": 49,
      "outputs": [
        {
          "output_type": "stream",
          "name": "stdout",
          "text": [
            "3x3 identity matrix\n",
            " [[1. 0. 0.]\n",
            " [0. 1. 0.]\n",
            " [0. 0. 1.]]\n"
          ]
        }
      ]
    },
    {
      "cell_type": "code",
      "source": [
        "random = np.random.random(30)\n",
        "mean = random.mean()\n",
        "print(\"Random Array of size 30:\\n\", random)\n",
        "print(\"Mean of the array is\\n\",mean)"
      ],
      "metadata": {
        "colab": {
          "base_uri": "https://localhost:8080/"
        },
        "id": "xqiO2DFAWBTK",
        "outputId": "43922ef5-b546-46b4-e855-51e16bf9ddd6"
      },
      "execution_count": 50,
      "outputs": [
        {
          "output_type": "stream",
          "name": "stdout",
          "text": [
            "Random Array of size 30:\n",
            " [0.99134268 0.7428102  0.03666282 0.42205266 0.89638095 0.91938268\n",
            " 0.0548192  0.19594313 0.42284752 0.13623791 0.77851951 0.69935983\n",
            " 0.38031841 0.79211962 0.98222932 0.97468208 0.38236609 0.64246089\n",
            " 0.36667815 0.93920618 0.33317317 0.42330717 0.13280159 0.71336971\n",
            " 0.53436667 0.48028003 0.92261612 0.35074654 0.87186587 0.47959011]\n",
            "Mean of the array is\n",
            " 0.5666178930370164\n"
          ]
        }
      ]
    },
    {
      "cell_type": "code",
      "source": [
        "random_arr = np.random.random((10, 10))\n",
        "min = random_arr.min()\n",
        "max = random_arr.max()\n",
        "print(\"10X10 Array with random values:\\n\", random)\n",
        "print(\"Minimum value:\", min)\n",
        "print(\"Maximum value:\", max)\n"
      ],
      "metadata": {
        "colab": {
          "base_uri": "https://localhost:8080/"
        },
        "id": "d2L3I5zwWWnC",
        "outputId": "ff12521f-6c58-472e-baa1-74bac02f6a12"
      },
      "execution_count": 51,
      "outputs": [
        {
          "output_type": "stream",
          "name": "stdout",
          "text": [
            "10X10 Array with random values:\n",
            " [0.99134268 0.7428102  0.03666282 0.42205266 0.89638095 0.91938268\n",
            " 0.0548192  0.19594313 0.42284752 0.13623791 0.77851951 0.69935983\n",
            " 0.38031841 0.79211962 0.98222932 0.97468208 0.38236609 0.64246089\n",
            " 0.36667815 0.93920618 0.33317317 0.42330717 0.13280159 0.71336971\n",
            " 0.53436667 0.48028003 0.92261612 0.35074654 0.87186587 0.47959011]\n",
            "Minimum value: 0.0016236592690233032\n",
            "Maximum value: 0.9794200758637359\n"
          ]
        }
      ]
    },
    {
      "cell_type": "code",
      "source": [
        "zero_arr = np.zeros(10)\n",
        "zero_arr[4] = 1\n",
        "print(\"Zero Array with 5th element replaced with 1:\\n\", zero_arr)"
      ],
      "metadata": {
        "colab": {
          "base_uri": "https://localhost:8080/"
        },
        "id": "D7pCk9MAWqqF",
        "outputId": "6f2c46b0-7bc7-48b0-efee-0c8ae05ec4a9"
      },
      "execution_count": 53,
      "outputs": [
        {
          "output_type": "stream",
          "name": "stdout",
          "text": [
            "Zero Array with 5th element replaced with 1:\n",
            " [0. 0. 0. 0. 1. 0. 0. 0. 0. 0.]\n"
          ]
        }
      ]
    },
    {
      "cell_type": "code",
      "source": [
        "arr = [1,2,0,0,4,0]\n",
        "print(\"Reversed:\\n\",arr[::-1])"
      ],
      "metadata": {
        "colab": {
          "base_uri": "https://localhost:8080/"
        },
        "id": "GuqGXqcQW2uD",
        "outputId": "01001622-1ed3-460b-e230-e9ce5b312160"
      },
      "execution_count": 54,
      "outputs": [
        {
          "output_type": "stream",
          "name": "stdout",
          "text": [
            "Reversed:\n",
            " [0, 4, 0, 0, 2, 1]\n"
          ]
        }
      ]
    },
    {
      "cell_type": "code",
      "source": [
        "arr1 = np.ones((7,7)).astype(int)\n",
        "arr1[1:-1,1:-1]= 0\n",
        "print(\"The array with ones in border and zero inside:\\n\",arr1)"
      ],
      "metadata": {
        "colab": {
          "base_uri": "https://localhost:8080/"
        },
        "id": "P6mbanVBW_N2",
        "outputId": "3e6d5cd4-11c7-4db3-b08d-b8329bf59afc"
      },
      "execution_count": 56,
      "outputs": [
        {
          "output_type": "stream",
          "name": "stdout",
          "text": [
            "The array with ones in border and zero inside:\n",
            " [[1 1 1 1 1 1 1]\n",
            " [1 0 0 0 0 0 1]\n",
            " [1 0 0 0 0 0 1]\n",
            " [1 0 0 0 0 0 1]\n",
            " [1 0 0 0 0 0 1]\n",
            " [1 0 0 0 0 0 1]\n",
            " [1 1 1 1 1 1 1]]\n"
          ]
        }
      ]
    },
    {
      "cell_type": "code",
      "source": [
        "\n",
        "import numpy as np\n",
        "board = np.ones((8, 8), dtype=int)\n",
        "\n",
        "board[1::2, ::2] = 0\n",
        "board[::2, 1::2] = 0\n",
        "\n",
        "board\n"
      ],
      "metadata": {
        "colab": {
          "base_uri": "https://localhost:8080/"
        },
        "id": "P29CxyhaZBER",
        "outputId": "e8cfafef-d4fc-4d79-9ecd-38c3ffc5a7e3"
      },
      "execution_count": 60,
      "outputs": [
        {
          "output_type": "execute_result",
          "data": {
            "text/plain": [
              "array([[1, 0, 1, 0, 1, 0, 1, 0],\n",
              "       [0, 1, 0, 1, 0, 1, 0, 1],\n",
              "       [1, 0, 1, 0, 1, 0, 1, 0],\n",
              "       [0, 1, 0, 1, 0, 1, 0, 1],\n",
              "       [1, 0, 1, 0, 1, 0, 1, 0],\n",
              "       [0, 1, 0, 1, 0, 1, 0, 1],\n",
              "       [1, 0, 1, 0, 1, 0, 1, 0],\n",
              "       [0, 1, 0, 1, 0, 1, 0, 1]])"
            ]
          },
          "metadata": {},
          "execution_count": 60
        }
      ]
    },
    {
      "cell_type": "markdown",
      "source": [
        "# Problem 3\n"
      ],
      "metadata": {
        "id": "-fqBNDLyZhe-"
      }
    },
    {
      "cell_type": "code",
      "source": [
        "x = np.array([[1,2],[3,5]])\n",
        "y = np.array([[5,6],[7,8]])\n",
        "v = np.array([9,10])\n",
        "w = np.array([11,12])\n"
      ],
      "metadata": {
        "id": "swm73qnJZlGi"
      },
      "execution_count": 61,
      "outputs": []
    },
    {
      "cell_type": "code",
      "source": [
        "add = x + y\n",
        "print(\"Adding two array\", add)"
      ],
      "metadata": {
        "colab": {
          "base_uri": "https://localhost:8080/"
        },
        "id": "16rmYZlzb_Ex",
        "outputId": "88a704c3-3cd7-40a7-dad0-8de34a47d46b"
      },
      "execution_count": 62,
      "outputs": [
        {
          "output_type": "stream",
          "name": "stdout",
          "text": [
            "Adding two array [[ 6  8]\n",
            " [10 13]]\n"
          ]
        }
      ]
    },
    {
      "cell_type": "code",
      "source": [
        "sub = x - y\n",
        "print(\"Subtracting two array\",sub)"
      ],
      "metadata": {
        "colab": {
          "base_uri": "https://localhost:8080/"
        },
        "id": "R4xLSr2TcIjJ",
        "outputId": "852664b3-483d-48d8-af4b-bbcd067fb474"
      },
      "execution_count": 65,
      "outputs": [
        {
          "output_type": "stream",
          "name": "stdout",
          "text": [
            "Subtracting two array [[-4 -4]\n",
            " [-4 -3]]\n"
          ]
        }
      ]
    },
    {
      "cell_type": "code",
      "source": [
        "multiply = x * 28\n",
        "print(\"Mulyiplying x wiht 28\", multiply)"
      ],
      "metadata": {
        "colab": {
          "base_uri": "https://localhost:8080/"
        },
        "id": "K8y9bVXwcQhA",
        "outputId": "5ab2aab7-6e5f-4fc3-f231-d461938a61b9"
      },
      "execution_count": 66,
      "outputs": [
        {
          "output_type": "stream",
          "name": "stdout",
          "text": [
            "Mulyiplying x wiht 28 [[ 28  56]\n",
            " [ 84 140]]\n"
          ]
        }
      ]
    },
    {
      "cell_type": "code",
      "source": [
        "x2 = np.square(x)\n",
        "print(\"Elements of x after squared\",x2)"
      ],
      "metadata": {
        "colab": {
          "base_uri": "https://localhost:8080/"
        },
        "id": "WWW20xixcYf5",
        "outputId": "daddc582-a5f6-4e6a-b94e-c0f3b4ef9908"
      },
      "execution_count": 67,
      "outputs": [
        {
          "output_type": "stream",
          "name": "stdout",
          "text": [
            "Elements of x after squared [[ 1  4]\n",
            " [ 9 25]]\n"
          ]
        }
      ]
    },
    {
      "cell_type": "code",
      "source": [
        "dot_vw = v.dot(w)\n",
        "dot_xv = x.dot(v)\n",
        "dot_xy = x.dot(y)\n",
        "print(\"Dot product of \\n\")\n",
        "print(\" v and w :\\n\",dot_vw)\n",
        "print(\" x and v :\\n\",dot_xv)\n",
        "print(\" x and y :\\n\",dot_xy)"
      ],
      "metadata": {
        "colab": {
          "base_uri": "https://localhost:8080/"
        },
        "id": "xJI-6Z1Jcfib",
        "outputId": "b4f7288e-fd87-4dc1-86c2-489f2bbe7e99"
      },
      "execution_count": 68,
      "outputs": [
        {
          "output_type": "stream",
          "name": "stdout",
          "text": [
            "Dot product of \n",
            "\n",
            " v and w :\n",
            " 219\n",
            " x and v :\n",
            " [29 77]\n",
            " x and y :\n",
            " [[19 22]\n",
            " [50 58]]\n"
          ]
        }
      ]
    },
    {
      "cell_type": "code",
      "source": [
        "\n",
        "import numpy as np\n",
        "\n",
        "xy_concatenated = np.concatenate((x, y), axis=0)\n",
        "print(\"Concatenated x and y along rows:\\n\", xy_concatenated)\n",
        "\n",
        "vw_concatenated = np.vstack((v, w))\n",
        "print(\"\\nConcatenated v and w along columns:\\n\", vw_concatenated)\n"
      ],
      "metadata": {
        "colab": {
          "base_uri": "https://localhost:8080/"
        },
        "id": "N_BNlnaJgDij",
        "outputId": "e185cd62-d407-4a3f-a7e9-6e084d8657af"
      },
      "execution_count": 69,
      "outputs": [
        {
          "output_type": "stream",
          "name": "stdout",
          "text": [
            "Concatenated x and y along rows:\n",
            " [[1 2]\n",
            " [3 5]\n",
            " [5 6]\n",
            " [7 8]]\n",
            "\n",
            "Concatenated v and w along columns:\n",
            " [[ 9 10]\n",
            " [11 12]]\n"
          ]
        }
      ]
    },
    {
      "cell_type": "code",
      "source": [
        "# xv_concatenated = np.concatenate((x,v),axis=1)\n",
        "# xv_concatenated\n",
        "\n",
        "#using concatenate throws an error, as concatenate requires both arrays to have same shape except the axis they are being concatenated on\n",
        "\n",
        "#however, vstack works as it auto reshapes the arrays to match the shape\n",
        "xv = np.vstack((x,v))\n",
        "print(\"Concatenated x and v along columns:\\n\", xv)"
      ],
      "metadata": {
        "colab": {
          "base_uri": "https://localhost:8080/"
        },
        "id": "F8n4EjOQg7g4",
        "outputId": "fb6c2197-872e-4b5f-c4b5-b51119eeaeeb"
      },
      "execution_count": 80,
      "outputs": [
        {
          "output_type": "stream",
          "name": "stdout",
          "text": [
            "Concatenated x and v along columns:\n",
            " [[ 1  2]\n",
            " [ 3  5]\n",
            " [ 9 10]]\n"
          ]
        }
      ]
    },
    {
      "cell_type": "markdown",
      "source": [
        "**Problem 4**"
      ],
      "metadata": {
        "id": "MjLrOUm4js7F"
      }
    },
    {
      "cell_type": "code",
      "source": [
        "\n",
        "A = np.array([[3, 4], [7, 8]])\n",
        "B = np.array([[5, 3], [2, 1]])\n",
        "\n",
        "A_inv = np.linalg.inv(A)\n",
        "I = np.dot(A, A_inv).astype(int)\n",
        "print(\"A.A−1 = I:\\n\", I)\n",
        "\n",
        "AB = np.dot(A, B)\n",
        "BA = np.dot(B, A)\n",
        "print(\"AB:\\n\", AB)\n",
        "print(\"BA:\\n\", BA)\n",
        "print(\"AB != BA:\", not np.array_equal(AB, BA))\n",
        "\n",
        "AB_T = np.transpose(AB)\n",
        "B_T = np.transpose(B)\n",
        "A_T = np.transpose(A)\n",
        "BT_AT = np.dot(B_T, A_T)\n",
        "\n",
        "print(\"(AB)_T:\\n\", AB_T)\n",
        "print(\"B_T.A_T:\\n\", BT_AT)\n",
        "print(\"(AB)_T = B_T.A_T:\", np.array_equal(AB_T, BT_AT))\n"
      ],
      "metadata": {
        "colab": {
          "base_uri": "https://localhost:8080/"
        },
        "id": "I190oCTUhKv5",
        "outputId": "5ea2d552-9ca4-4916-af5d-482de115f5c3"
      },
      "execution_count": 82,
      "outputs": [
        {
          "output_type": "stream",
          "name": "stdout",
          "text": [
            "A.A−1 = I:\n",
            " [[1 0]\n",
            " [0 0]]\n",
            "AB:\n",
            " [[23 13]\n",
            " [51 29]]\n",
            "BA:\n",
            " [[36 44]\n",
            " [13 16]]\n",
            "AB != BA: True\n",
            "(AB)_T:\n",
            " [[23 51]\n",
            " [13 29]]\n",
            "B_T.A_T:\n",
            " [[23 51]\n",
            " [13 29]]\n",
            "(AB)_T = B_T.A_T: True\n"
          ]
        }
      ]
    },
    {
      "cell_type": "code",
      "source": [
        "A = np.array([[2, -3, 1],\n",
        "              [1, -1, 2],\n",
        "              [3, 1, -1]])\n",
        "\n",
        "B = np.array([-1, -3, 9])\n",
        "\n",
        "A_inv = np.linalg.inv(A)\n",
        "X = np.dot(A_inv, B)\n",
        "print(\"Solution:\")\n",
        "print(\"x =\", X[0])\n",
        "print(\"y =\", X[1])\n",
        "print(\"z =\", X[2])\n"
      ],
      "metadata": {
        "colab": {
          "base_uri": "https://localhost:8080/"
        },
        "id": "sZzUh0lOoG60",
        "outputId": "c5848adb-db8b-4685-9093-e1e8bc4c525c"
      },
      "execution_count": 83,
      "outputs": [
        {
          "output_type": "stream",
          "name": "stdout",
          "text": [
            "Solution:\n",
            "x = 2.0\n",
            "y = 1.0\n",
            "z = -2.0\n"
          ]
        }
      ]
    },
    {
      "cell_type": "markdown",
      "source": [
        "**EXPERIMENT**"
      ],
      "metadata": {
        "id": "ope5imUyqROq"
      }
    },
    {
      "cell_type": "code",
      "source": [
        "import time\n",
        "import numpy as np\n",
        "\n",
        "size = 1000000\n",
        "\n",
        "list1 = list(range(size))\n",
        "list2 = list(range(size))\n",
        "\n",
        "start_time = time.time()\n",
        "list_sum = [x + y for x, y in zip(list1, list2)]\n",
        "end_time = time.time()\n",
        "\n",
        "print(\"Element-wise Addition (Lists):\", end_time - start_time, \"seconds\")\n",
        "\n",
        "\n",
        "array1 = np.arange(size)\n",
        "array2 = np.arange(size)\n",
        "\n",
        "start_time = time.time()\n",
        "array_sum = array1 + array2\n",
        "end_time = time.time()\n",
        "\n",
        "print(\"Element-wise Addition (NumPy):\", end_time - start_time, \"seconds\")\n",
        "\n",
        "\n",
        "\n",
        "start_time = time.time()\n",
        "list_product = [x * y for x, y in zip(list1, list2)]\n",
        "end_time = time.time()\n",
        "\n",
        "print(\"\\nElement-wise Multiplication (Lists):\", end_time - start_time, \"seconds\")\n",
        "\n",
        "\n",
        "start_time = time.time()\n",
        "array_product = array1 * array2\n",
        "end_time = time.time()\n",
        "\n",
        "print(\"Element-wise Multiplication (NumPy):\", end_time - start_time, \"seconds\")\n",
        "\n",
        "\n"
      ],
      "metadata": {
        "colab": {
          "base_uri": "https://localhost:8080/"
        },
        "id": "UElXMaoAqTNF",
        "outputId": "733340b7-a7a9-456b-a9fb-e36892d6193d"
      },
      "execution_count": 2,
      "outputs": [
        {
          "output_type": "stream",
          "name": "stdout",
          "text": [
            "Element-wise Addition (Lists): 0.33856821060180664 seconds\n",
            "Element-wise Addition (NumPy): 0.005872488021850586 seconds\n",
            "\n",
            "Element-wise Multiplication (Lists): 0.10826253890991211 seconds\n",
            "Element-wise Multiplication (NumPy): 0.004128694534301758 seconds\n"
          ]
        }
      ]
    },
    {
      "cell_type": "code",
      "source": [
        "list_3 = list(range(size))\n",
        "list_4 = list(range(size))\n",
        "\n",
        "\n",
        "start_time = time.time()\n",
        "dot_product_list = sum(x * y for x, y in zip(list_3, list_4))\n",
        "end_time = time.time()\n",
        "print(\"Dot Product (Lists):\", end_time - start_time, \"seconds\")\n",
        "\n",
        "array_a = np.arange(size)\n",
        "array_b = np.arange(size)\n",
        "\n",
        "start_time = time.time()\n",
        "dot_product_array = np.dot(array_a, array_b)\n",
        "end_time = time.time()\n",
        "print(\"Dot Product (NumPy):\", end_time - start_time, \"seconds\")\n",
        "\n"
      ],
      "metadata": {
        "colab": {
          "base_uri": "https://localhost:8080/"
        },
        "id": "lVRqlYVPtj6i",
        "outputId": "27b14ca7-905c-4198-b969-5fb9e26ff2f7"
      },
      "execution_count": 4,
      "outputs": [
        {
          "output_type": "stream",
          "name": "stdout",
          "text": [
            "Dot Product (Lists): 0.16276979446411133 seconds\n",
            "Dot Product (NumPy): 0.002066373825073242 seconds\n"
          ]
        }
      ]
    },
    {
      "cell_type": "code",
      "source": [
        "size = 1000\n",
        "A = [[np.random.randint(0, 10) for i in range(size)] for j in range(size)]\n",
        "B = [[np.random.randint(0, 10) for i in range(size)] for j in range(size)]\n",
        "\n",
        "start_time = time.time()\n",
        "C = [[sum(A[i][k] * B[k][j] for k in range(size)) for j in range(size)] for i in range(size)]\n",
        "end_time = time.time()\n",
        "\n",
        "print(\"Matrix Multiplication (Lists):\", end_time - start_time, \"seconds\")\n",
        "\n",
        "A_np = np.array(A)\n",
        "B_np = np.array(B)\n",
        "\n",
        "start_time = time.time()\n",
        "C_np = np.dot(A_np, B_np)\n",
        "end_time = time.time()\n",
        "\n",
        "print(\"Matrix Multiplication (NumPy):\", end_time - start_time, \"seconds\")\n"
      ],
      "metadata": {
        "colab": {
          "base_uri": "https://localhost:8080/"
        },
        "id": "GjR3uyMPvbz8",
        "outputId": "c0326cd9-eb80-4658-8630-1fe4e65090ad"
      },
      "execution_count": 8,
      "outputs": [
        {
          "output_type": "stream",
          "name": "stdout",
          "text": [
            "Matrix Multiplication (Lists): 125.30932211875916 seconds\n",
            "Matrix Multiplication (NumPy): 1.4548697471618652 seconds\n"
          ]
        }
      ]
    }
  ]
}